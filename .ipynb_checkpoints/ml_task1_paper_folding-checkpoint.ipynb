{
 "cells": [
  {
   "cell_type": "markdown",
   "id": "d4a36217-6250-4c76-b922-f9590999fd3f",
   "metadata": {},
   "source": [
    "# Problem 1"
   ]
  },
  {
   "cell_type": "code",
   "execution_count": null,
   "id": "b72acf74-fd6d-45cf-b213-7d3499bb3068",
   "metadata": {},
   "outputs": [],
   "source": [
    "\n",
    "#paper folded only one time\n",
    "\n",
    "THICKNESS = 0.00008\n",
    "\n",
    "folded_thickness = THICKNESS * 2\n",
    "\n",
    "print(\"Thickness: {} meters\".format(folded_thickness))"
   ]
  },
  {
   "cell_type": "code",
   "execution_count": 5,
   "id": "f85cf51e-f0f3-48d6-9f67-459b7c243738",
   "metadata": {},
   "outputs": [
    {
     "name": "stdout",
     "output_type": "stream",
     "text": [
      "Thickness: 703687441.77664 meters\n"
     ]
    }
   ],
   "source": [
    "#paper folded only one time\n",
    "\n",
    "THICKNESS = 0.00008\n",
    "folding_times = 43\n",
    "for i in (range(folding_times)):\n",
    "    THICKNESS = THICKNESS * 2\n",
    "print(\"Thickness: {} meters\".format(THICKNESS))"
   ]
  },
  {
   "cell_type": "markdown",
   "id": "3101799b-cfeb-42bc-a742-7549486cb5bd",
   "metadata": {},
   "source": [
    "# Problem 2\n"
   ]
  },
  {
   "cell_type": "code",
   "execution_count": null,
   "id": "287b246c-58d4-4b78-94d2-7ae0e5d8851d",
   "metadata": {},
   "outputs": [],
   "source": []
  }
 ],
 "metadata": {
  "kernelspec": {
   "display_name": "Python 3 (ipykernel)",
   "language": "python",
   "name": "python3"
  },
  "language_info": {
   "codemirror_mode": {
    "name": "ipython",
    "version": 3
   },
   "file_extension": ".py",
   "mimetype": "text/x-python",
   "name": "python",
   "nbconvert_exporter": "python",
   "pygments_lexer": "ipython3",
   "version": "3.11.5"
  }
 },
 "nbformat": 4,
 "nbformat_minor": 5
}
